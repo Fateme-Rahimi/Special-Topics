{
  "cells": [
    {
      "cell_type": "markdown",
      "metadata": {
        "id": "dHtjoHIALeaO"
      },
      "source": [
        "### Chapter 2\n",
        "## Loading Data\n",
        "\n",
        "### 2.0 Introduction\n",
        "The first step in any machine learning endeavor is to get the raw data into our system. The raw data might be a logfile, dataset file, or database. Furthermore, often we will want to retrieve data from multiple sources. The recipies in this chapter look at methods of loading data from a variety of sources, including CSV files and SQL databases. We also cover methods of generating simulated data with desirable properties for experimentation. Finally, while there are many ways to load data in the Python ecosystem, we will focus on using the pandas library's extensive set of methods for loading external data, and using scikit-learn--an open source machine learning library in Python--for generating simulated data.\n",
        "\n",
        "### 2.1 Loading a Sample Dataset\n",
        "#### Problem\n",
        "You want to load a prexisting sample dataset\n",
        "\n",
        "#### Solution\n",
        "scikit-learn comes with a number of popular datasets for you to use:"
      ]
    },
    {
      "cell_type": "code",
      "execution_count": 17,
      "metadata": {
        "colab": {
          "base_uri": "https://localhost:8080/"
        },
        "id": "attdb8ygLeaR",
        "outputId": "2a3fbc00-9c24-46c9-a4f9-03963344ec1e"
      },
      "outputs": [
        {
          "output_type": "execute_result",
          "data": {
            "text/plain": [
              "array([ 0.,  0.,  5., 13.,  9.,  1.,  0.,  0.,  0.,  0., 13., 15., 10.,\n",
              "       15.,  5.,  0.,  0.,  3., 15.,  2.,  0., 11.,  8.,  0.,  0.,  4.,\n",
              "       12.,  0.,  0.,  8.,  8.,  0.,  0.,  5.,  8.,  0.,  0.,  9.,  8.,\n",
              "        0.,  0.,  4., 11.,  0.,  1., 12.,  7.,  0.,  0.,  2., 14.,  5.,\n",
              "       10., 12.,  0.,  0.,  0.,  0.,  6., 13., 10.,  0.,  0.,  0.])"
            ]
          },
          "metadata": {},
          "execution_count": 17
        }
      ],
      "source": [
        "# load scikit-learn's datasets\n",
        "from sklearn import datasets\n",
        "\n",
        "# load digits dataset\n",
        "digits = datasets.load_digits()\n",
        "\n",
        "# create features matrix\n",
        "features = digits.data\n",
        "\n",
        "# create target vector\n",
        "target = digits.target\n",
        "\n",
        "# view first observation\n",
        "features[0]"
      ]
    },
    {
      "cell_type": "code",
      "source": [
        "features[0].shape"
      ],
      "metadata": {
        "colab": {
          "base_uri": "https://localhost:8080/"
        },
        "id": "zQWRYSW5sZsF",
        "outputId": "bc6cf640-a7b1-4559-81f9-d5fbc1273ed3"
      },
      "execution_count": 18,
      "outputs": [
        {
          "output_type": "execute_result",
          "data": {
            "text/plain": [
              "(64,)"
            ]
          },
          "metadata": {},
          "execution_count": 18
        }
      ]
    },
    {
      "cell_type": "code",
      "source": [
        "import matplotlib.pyplot as plt\n",
        "\n",
        "plt.imshow(features[5].reshape(8,8),'gray')"
      ],
      "metadata": {
        "colab": {
          "base_uri": "https://localhost:8080/",
          "height": 448
        },
        "id": "rmH_4wvaLmq-",
        "outputId": "75357269-fe6d-445d-8b27-222f358629f9"
      },
      "execution_count": 19,
      "outputs": [
        {
          "output_type": "execute_result",
          "data": {
            "text/plain": [
              "<matplotlib.image.AxesImage at 0x7e3633c81e10>"
            ]
          },
          "metadata": {},
          "execution_count": 19
        },
        {
          "output_type": "display_data",
          "data": {
            "text/plain": [
              "<Figure size 640x480 with 1 Axes>"
            ],
            "image/png": "[encoded data removed]"
          },
          "metadata": {}
        }
      ]
    },
    {
      "cell_type": "code",
      "source": [
        "target[0]"
      ],
      "metadata": {
        "colab": {
          "base_uri": "https://localhost:8080/"
        },
        "id": "K4bZbR9BsjYI",
        "outputId": "5ef14256-43b1-4a02-f125-56ec0d2da975"
      },
      "execution_count": 20,
      "outputs": [
        {
          "output_type": "execute_result",
          "data": {
            "text/plain": [
              "0"
            ]
          },
          "metadata": {},
          "execution_count": 20
        }
      ]
    },
    {
      "cell_type": "code",
      "source": [
        "target.shape"
      ],
      "metadata": {
        "colab": {
          "base_uri": "https://localhost:8080/"
        },
        "id": "o15EsJNMsnNg",
        "outputId": "8d823013-88f0-41e5-c67d-94b7330083e4"
      },
      "execution_count": 21,
      "outputs": [
        {
          "output_type": "execute_result",
          "data": {
            "text/plain": [
              "(1797,)"
            ]
          },
          "metadata": {},
          "execution_count": 21
        }
      ]
    },
    {
      "cell_type": "code",
      "source": [
        "for i in range(8):\n",
        "  plt.subplot(2,4,i+1)\n",
        "  plt.imshow(features[i].reshape((8,8)), cmap = 'gray')\n",
        "  plt.title(f'{target[i]}')"
      ],
      "metadata": {
        "colab": {
          "base_uri": "https://localhost:8080/",
          "height": 392
        },
        "id": "9JfjyODSMLpM",
        "outputId": "3bd08388-c492-4691-d6a7-ed957506d94e"
      },
      "execution_count": 22,
      "outputs": [
        {
          "output_type": "display_data",
          "data": {
            "text/plain": [
              "<Figure size 640x480 with 8 Axes>"
            ],
            "image/png": "[encoded data removed]"
          },
          "metadata": {}
        }
      ]
    },
    {
      "cell_type": "markdown",
      "metadata": {
        "id": "_o-c0nGyLeaT"
      },
      "source": [
        "#### Discussion\n",
        "Often we do not want to go through the work of loading, transforming and cleaning a real-world dataset before we can explore some machine learning algorithm or method. Luckily, scikit-learn comes with some common datasets we can quickly load. These datasets are often called \"toy\" datasets because they are far smaller and cleaner than a dataset we would see in the real world. Some popular sample datasets in scikit-learn are:\n",
        "\n",
        "`load_boston`\n",
        "* Contains 503 observations on Boston housing prices. It is a good dataset for exploring regression algorithms.\n",
        "    \n",
        "`load_iris`\n",
        "* Contains 150 observations on the measurements of Iris flowers. It is a good dataset for exploring classification algorithms\n",
        "\n",
        "`load_digits`\n",
        "* Cotnains 1,797 observations from images of handwritten digits. It is a good dataset for teaching image classification\n",
        "\n",
        "#### See Also\n",
        "* scikit-learn toy datasets (http://scikit-learn.org/stable/datasets/index.html#toy-datasets)\n",
        "* The Digit Dataset (http://scikit-learn.org/stable/auto_examples/datasets/plot_digits_last_image.html)\n",
        "\n",
        "### 2.2 Creating a Simulated Dataset\n",
        "#### Problem\n",
        "You need to generate a dataset of simulated data\n",
        "\n",
        "#### Solution\n",
        "scikit-learn offers any methods for creating simulated data. Of those, three methods are particularly useful\n",
        "\n",
        "When we want a dataset designed to be used with linear regression, `make_regression` is a good choice:"
      ]
    },
    {
      "cell_type": "code",
      "source": [
        "iris = datasets.load_iris"
      ],
      "metadata": {
        "id": "CLPkM1-fPiso"
      },
      "execution_count": 23,
      "outputs": []
    },
    {
      "cell_type": "code",
      "execution_count": 25,
      "metadata": {
        "colab": {
          "base_uri": "https://localhost:8080/"
        },
        "id": "Tw1Z09DGLeaU",
        "outputId": "58b60da1-21d3-44b3-8a8f-e3ec13d6fd60"
      },
      "outputs": [
        {
          "output_type": "stream",
          "name": "stdout",
          "text": [
            "Feature Matrix \n",
            " [[ 1.29322588 -0.61736206 -0.11044703]\n",
            " [-2.793085    0.36633201  1.93752881]\n",
            " [ 0.80186103 -0.18656977  0.0465673 ]]\n",
            "Target Vector \n",
            " [-10.37865986  25.5124503   19.67705609]\n"
          ]
        }
      ],
      "source": [
        "# load library\n",
        "from sklearn.datasets import make_regression\n",
        "\n",
        "# generate features matrix, target vector, and the true coefficients\n",
        "features, target, coefficients = make_regression(n_samples = 100,\n",
        "                                                 n_features = 3,\n",
        "                                                 n_informative = 3,\n",
        "                                                 n_targets = 1,\n",
        "                                                 noise = 0.0,\n",
        "                                                 coef = True,\n",
        "                                                 random_state = 1)\n",
        "\n",
        "# view feature matrix and target vector\n",
        "print(\"Feature Matrix \\n {}\".format(features[:3]))\n",
        "print(\"Target Vector \\n {}\".format(target[:3]))"
      ]
    },
    {
      "cell_type": "code",
      "source": [
        "plt.scatter(features[:,0],features[:,1])"
      ],
      "metadata": {
        "colab": {
          "base_uri": "https://localhost:8080/",
          "height": 448
        },
        "id": "BonOWuL_tJ1o",
        "outputId": "bef78bc3-32ca-4c7c-b87f-28d480542f81"
      },
      "execution_count": 26,
      "outputs": [
        {
          "output_type": "execute_result",
          "data": {
            "text/plain": [
              "<matplotlib.collections.PathCollection at 0x7e36338a5110>"
            ]
          },
          "metadata": {},
          "execution_count": 26
        },
        {
          "output_type": "display_data",
          "data": {
            "text/plain": [
              "<Figure size 640x480 with 1 Axes>"
            ],
            "image/png": "[encoded data removed]"
          },
          "metadata": {}
        }
      ]
    },
    {
      "cell_type": "markdown",
      "metadata": {
        "id": "H6HVFf6kLeaU"
      },
      "source": [
        "If we are interested in creating a simulated dataset for classification, we can use `make_classification`:"
      ]
    },
    {
      "cell_type": "code",
      "execution_count": 27,
      "metadata": {
        "id": "V2mnhRwSLeaV",
        "outputId": "066b3fe9-aa18-4d7c-d412-8b7fadfc835f",
        "colab": {
          "base_uri": "https://localhost:8080/"
        }
      },
      "outputs": [
        {
          "output_type": "stream",
          "name": "stdout",
          "text": [
            "Feature matrix\n",
            " [[ 1.06354768 -1.42632219  1.02163151]\n",
            " [ 0.23156977  1.49535261  0.33251578]\n",
            " [ 0.15972951  0.83533515 -0.40869554]]\n",
            "Target vector\n",
            " [1 0 0]\n"
          ]
        }
      ],
      "source": [
        "# load library\n",
        "from sklearn.datasets import make_classification\n",
        "\n",
        "# generate features matrix and target vector\n",
        "\n",
        "features, target = make_classification(n_samples = 100,\n",
        "                                       n_features = 3,\n",
        "                                       n_informative = 3,\n",
        "                                       n_redundant = 0,\n",
        "                                       n_classes = 2,\n",
        "                                       weights = [.25, .75],\n",
        "                                       random_state = 1)\n",
        "\n",
        "# view feature matrix and target vector\n",
        "print(\"Feature matrix\\n {}\".format(features[:3]))\n",
        "print(\"Target vector\\n {}\".format(target[:3]))"
      ]
    },
    {
      "cell_type": "code",
      "source": [
        "plt.scatter(features[:, 0], features[:, 1], c=target)"
      ],
      "metadata": {
        "colab": {
          "base_uri": "https://localhost:8080/",
          "height": 448
        },
        "id": "32PQE7OStZoc",
        "outputId": "8108d6d1-cd20-464d-edb6-2cba121d73b4"
      },
      "execution_count": 28,
      "outputs": [
        {
          "output_type": "execute_result",
          "data": {
            "text/plain": [
              "<matplotlib.collections.PathCollection at 0x7e363398a910>"
            ]
          },
          "metadata": {},
          "execution_count": 28
        },
        {
          "output_type": "display_data",
          "data": {
            "text/plain": [
              "<Figure size 640x480 with 1 Axes>"
            ],
            "image/png": "[encoded data removed]"
          },
          "metadata": {}
        }
      ]
    },
    {
      "cell_type": "markdown",
      "metadata": {
        "id": "tT95tOxlLeaV"
      },
      "source": [
        "Finally, if we want a dataset designed to work well with clustering techniques, scikit-learn offers make_blobs:"
      ]
    },
    {
      "cell_type": "code",
      "execution_count": 29,
      "metadata": {
        "colab": {
          "base_uri": "https://localhost:8080/"
        },
        "id": "NBaRyrCjLeaV",
        "outputId": "7cc7cd5d-2d10-4b14-c67b-09d449cbdef8"
      },
      "outputs": [
        {
          "output_type": "stream",
          "name": "stdout",
          "text": [
            "Feature Matrix\n",
            " [[ -0.79415228   2.10495117]\n",
            " [ -9.15155186  -4.81286449]\n",
            " [-11.44182631  -4.45781441]]\n",
            "Target Vector\n",
            " [0 1 1]\n"
          ]
        }
      ],
      "source": [
        "# load library\n",
        "from sklearn.datasets import make_blobs\n",
        "\n",
        "# generate feature_matrix and target vector\n",
        "features, target = make_blobs(n_samples = 100,\n",
        "                              n_features = 2,\n",
        "                              centers = 3,\n",
        "                              cluster_std = 1,\n",
        "                              shuffle = True,\n",
        "                              random_state = 1)\n",
        "\n",
        "# view feature matrix and target vector\n",
        "print(\"Feature Matrix\\n {}\".format(features[:3]))\n",
        "print(\"Target Vector\\n {}\".format(target[:3]))"
      ]
    },
    {
      "cell_type": "markdown",
      "metadata": {
        "id": "J7WiDhwcLeaW"
      },
      "source": [
        "#### Discussion\n",
        "As might be apparent from the solutions, make regression returns a feature matrix of flaot values and a target vector of float values, while make_classification and make_blobs return a feature matrix of float values and a target vector of integers representing membership in a class.\n",
        "\n",
        "scikit-learn's simulated datasets offer extensive options to control the type of data generated.\n",
        "\n",
        "In `make_regression` and `make_classification`, `n_informative` determines the number of features that are used to generate the target vector. If n`_informative` is less than the totla number of features (`n_features`), the resulting dataset will have redundant features that cna be identified through feature selection techniques\n",
        "\n",
        "In addition, `make_classification` contains a `weights` parameter that allows us to simulate datasets with imbalanced classes. For example, `weights = [.25, .75]` would return a dataset with 25% of observations belonging to one class and 75% to the other\n",
        "\n",
        "For `make_blobs`, the centers parameter determines the number of clusters generated. Using the `matplotlib` visualization library we can visualize the clusters generated by `make_blobs`:"
      ]
    },
    {
      "cell_type": "code",
      "execution_count": 31,
      "metadata": {
        "colab": {
          "base_uri": "https://localhost:8080/",
          "height": 430
        },
        "id": "eJTol2ZpLeaW",
        "outputId": "2b09d23a-901e-4bab-f083-40d8ba3241ed"
      },
      "outputs": [
        {
          "output_type": "display_data",
          "data": {
            "text/plain": [
              "<Figure size 640x480 with 1 Axes>"
            ],
            "image/png": "[encoded data removed]"
          },
          "metadata": {}
        }
      ],
      "source": [
        "# load library\n",
        "import matplotlib.pyplot as plt\n",
        "\n",
        "# view scatterplot\n",
        "plt.scatter(features[:, 0], features[:, 1], c=target)\n",
        "plt.show()"
      ]
    },
    {
      "cell_type": "markdown",
      "metadata": {
        "id": "h2bPgZHVLeaW"
      },
      "source": [
        "#### See Also\n",
        "* `make_regression` documentation (http://scikit-learn.org/stable/modules/generated/sklearn.datasets.make_regression.html)\n",
        "* `make_classification` documentation (http://scikit-learn.org/stable/modules/generated/sklearn.datasets.make_classification.html)\n",
        "* `make_blobs` documetnation (http://scikit-learn.org/stable/modules/generated/sklearn.datasets.make_blobs.html)"
      ]
    },
    {
      "cell_type": "markdown",
      "metadata": {
        "id": "u6ZtilLALeaX"
      },
      "source": [
        "### 2.3 Loading a CSV File\n",
        "#### Problem\n",
        "You need to import a comma-separated values (CSV) file.\n",
        "\n",
        "#### Solution\n",
        "Use the `pandas` library's `read_csv` to load a local or hosted CSV file:"
      ]
    },
    {
      "cell_type": "code",
      "execution_count": 33,
      "metadata": {
        "id": "Jub7ao2VLeaX",
        "outputId": "a62cfcc7-6f5b-4a1b-879b-01b0429b23a8",
        "colab": {
          "base_uri": "https://localhost:8080/",
          "height": 112
        }
      },
      "outputs": [
        {
          "output_type": "execute_result",
          "data": {
            "text/plain": [
              "   integer             datetime  category\n",
              "0        5  2015-01-01 00:00:00         0\n",
              "1        5  2015-01-01 00:00:01         0"
            ],
            "text/html": [
              "\n",
              "  <div id=\"df-f049a906-cb1e-4721-8414-f98b7efb5394\" class=\"colab-df-container\">\n",
              "    <div>\n",
              "<style scoped>\n",
              "    .dataframe tbody tr th:only-of-type {\n",
              "        vertical-align: middle;\n",
              "    }\n",
              "\n",
              "    .dataframe tbody tr th {\n",
              "        vertical-align: top;\n",
              "    }\n",
              "\n",
              "    .dataframe thead th {\n",
              "        text-align: right;\n",
              "    }\n",
              "</style>\n",
              "<table border=\"1\" class=\"dataframe\">\n",
              "  <thead>\n",
              "    <tr style=\"text-align: right;\">\n",
              "      <th></th>\n",
              "      <th>integer</th>\n",
              "      <th>datetime</th>\n",
              "      <th>category</th>\n",
              "    </tr>\n",
              "  </thead>\n",
              "  <tbody>\n",
              "    <tr>\n",
              "      <th>0</th>\n",
              "      <td>5</td>\n",
              "      <td>2015-01-01 00:00:00</td>\n",
              "      <td>0</td>\n",
              "    </tr>\n",
              "    <tr>\n",
              "      <th>1</th>\n",
              "      <td>5</td>\n",
              "      <td>2015-01-01 00:00:01</td>\n",
              "      <td>0</td>\n",
              "    </tr>\n",
              "  </tbody>\n",
              "</table>\n",
              "</div>\n",
              "    <div class=\"colab-df-buttons\">\n",
              "\n",
              "  <div class=\"colab-df-container\">\n",
              "    <button class=\"colab-df-convert\" onclick=\"convertToInteractive('df-f049a906-cb1e-4721-8414-f98b7efb5394')\"\n",
              "            title=\"Convert this dataframe to an interactive table.\"\n",
              "            style=\"display:none;\">\n",
              "\n",
              "  <svg xmlns=\"http://www.w3.org/2000/svg\" height=\"24px\" viewBox=\"0 -960 960 960\">\n",
              "    <path d=\"M120-120v-720h720v720H120Zm60-500h600v-160H180v160Zm220 220h160v-160H400v160Zm0 220h160v-160H400v160ZM180-400h160v-160H180v160Zm440 0h160v-160H620v160ZM180-180h160v-160H180v160Zm440 0h160v-160H620v160Z\"/>\n",
              "  </svg>\n",
              "    </button>\n",
              "\n",
              "  <style>\n",
              "    .colab-df-container {\n",
              "      display:flex;\n",
              "      gap: 12px;\n",
              "    }\n",
              "\n",
              "    .colab-df-convert {\n",
              "      background-color: #E8F0FE;\n",
              "      border: none;\n",
              "      border-radius: 50%;\n",
              "      cursor: pointer;\n",
              "      display: none;\n",
              "      fill: #1967D2;\n",
              "      height: 32px;\n",
              "      padding: 0 0 0 0;\n",
              "      width: 32px;\n",
              "    }\n",
              "\n",
              "    .colab-df-convert:hover {\n",
              "      background-color: #E2EBFA;\n",
              "      box-shadow: 0px 1px 2px rgba(60, 64, 67, 0.3), 0px 1px 3px 1px rgba(60, 64, 67, 0.15);\n",
              "      fill: #174EA6;\n",
              "    }\n",
              "\n",
              "    .colab-df-buttons div {\n",
              "      margin-bottom: 4px;\n",
              "    }\n",
              "\n",
              "    [theme=dark] .colab-df-convert {\n",
              "      background-color: #3B4455;\n",
              "      fill: #D2E3FC;\n",
              "    }\n",
              "\n",
              "    [theme=dark] .colab-df-convert:hover {\n",
              "      background-color: #434B5C;\n",
              "      box-shadow: 0px 1px 3px 1px rgba(0, 0, 0, 0.15);\n",
              "      filter: drop-shadow(0px 1px 2px rgba(0, 0, 0, 0.3));\n",
              "      fill: #FFFFFF;\n",
              "    }\n",
              "  </style>\n",
              "\n",
              "    <script>\n",
              "      const buttonEl =\n",
              "        document.querySelector('#df-f049a906-cb1e-4721-8414-f98b7efb5394 button.colab-df-convert');\n",
              "      buttonEl.style.display =\n",
              "        google.colab.kernel.accessAllowed ? 'block' : 'none';\n",
              "\n",
              "      async function convertToInteractive(key) {\n",
              "        const element = document.querySelector('#df-f049a906-cb1e-4721-8414-f98b7efb5394');\n",
              "        const dataTable =\n",
              "          await google.colab.kernel.invokeFunction('convertToInteractive',\n",
              "                                                    [key], {});\n",
              "        if (!dataTable) return;\n",
              "\n",
              "        const docLinkHtml = 'Like what you see? Visit the ' +\n",
              "          '<a target=\"_blank\" href=https://colab.research.google.com/notebooks/data_table.ipynb>data table notebook</a>'\n",
              "          + ' to learn more about interactive tables.';\n",
              "        element.innerHTML = '';\n",
              "        dataTable['output_type'] = 'display_data';\n",
              "        await google.colab.output.renderOutput(dataTable, element);\n",
              "        const docLink = document.createElement('div');\n",
              "        docLink.innerHTML = docLinkHtml;\n",
              "        element.appendChild(docLink);\n",
              "      }\n",
              "    </script>\n",
              "  </div>\n",
              "\n",
              "\n",
              "<div id=\"df-1b42a2a2-87bc-4d10-a6bc-bbd9f92ef834\">\n",
              "  <button class=\"colab-df-quickchart\" onclick=\"quickchart('df-1b42a2a2-87bc-4d10-a6bc-bbd9f92ef834')\"\n",
              "            title=\"Suggest charts\"\n",
              "            style=\"display:none;\">\n",
              "\n",
              "<svg xmlns=\"http://www.w3.org/2000/svg\" height=\"24px\"viewBox=\"0 0 24 24\"\n",
              "     width=\"24px\">\n",
              "    <g>\n",
              "        <path d=\"M19 3H5c-1.1 0-2 .9-2 2v14c0 1.1.9 2 2 2h14c1.1 0 2-.9 2-2V5c0-1.1-.9-2-2-2zM9 17H7v-7h2v7zm4 0h-2V7h2v10zm4 0h-2v-4h2v4z\"/>\n",
              "    </g>\n",
              "</svg>\n",
              "  </button>\n",
              "\n",
              "<style>\n",
              "  .colab-df-quickchart {\n",
              "      --bg-color: #E8F0FE;\n",
              "      --fill-color: #1967D2;\n",
              "      --hover-bg-color: #E2EBFA;\n",
              "      --hover-fill-color: #174EA6;\n",
              "      --disabled-fill-color: #AAA;\n",
              "      --disabled-bg-color: #DDD;\n",
              "  }\n",
              "\n",
              "  [theme=dark] .colab-df-quickchart {\n",
              "      --bg-color: #3B4455;\n",
              "      --fill-color: #D2E3FC;\n",
              "      --hover-bg-color: #434B5C;\n",
              "      --hover-fill-color: #FFFFFF;\n",
              "      --disabled-bg-color: #3B4455;\n",
              "      --disabled-fill-color: #666;\n",
              "  }\n",
              "\n",
              "  .colab-df-quickchart {\n",
              "    background-color: var(--bg-color);\n",
              "    border: none;\n",
              "    border-radius: 50%;\n",
              "    cursor: pointer;\n",
              "    display: none;\n",
              "    fill: var(--fill-color);\n",
              "    height: 32px;\n",
              "    padding: 0;\n",
              "    width: 32px;\n",
              "  }\n",
              "\n",
              "  .colab-df-quickchart:hover {\n",
              "    background-color: var(--hover-bg-color);\n",
              "    box-shadow: 0 1px 2px rgba(60, 64, 67, 0.3), 0 1px 3px 1px rgba(60, 64, 67, 0.15);\n",
              "    fill: var(--button-hover-fill-color);\n",
              "  }\n",
              "\n",
              "  .colab-df-quickchart-complete:disabled,\n",
              "  .colab-df-quickchart-complete:disabled:hover {\n",
              "    background-color: var(--disabled-bg-color);\n",
              "    fill: var(--disabled-fill-color);\n",
              "    box-shadow: none;\n",
              "  }\n",
              "\n",
              "  .colab-df-spinner {\n",
              "    border: 2px solid var(--fill-color);\n",
              "    border-color: transparent;\n",
              "    border-bottom-color: var(--fill-color);\n",
              "    animation:\n",
              "      spin 1s steps(1) infinite;\n",
              "  }\n",
              "\n",
              "  @keyframes spin {\n",
              "    0% {\n",
              "      border-color: transparent;\n",
              "      border-bottom-color: var(--fill-color);\n",
              "      border-left-color: var(--fill-color);\n",
              "    }\n",
              "    20% {\n",
              "      border-color: transparent;\n",
              "      border-left-color: var(--fill-color);\n",
              "      border-top-color: var(--fill-color);\n",
              "    }\n",
              "    30% {\n",
              "      border-color: transparent;\n",
              "      border-left-color: var(--fill-color);\n",
              "      border-top-color: var(--fill-color);\n",
              "      border-right-color: var(--fill-color);\n",
              "    }\n",
              "    40% {\n",
              "      border-color: transparent;\n",
              "      border-right-color: var(--fill-color);\n",
              "      border-top-color: var(--fill-color);\n",
              "    }\n",
              "    60% {\n",
              "      border-color: transparent;\n",
              "      border-right-color: var(--fill-color);\n",
              "    }\n",
              "    80% {\n",
              "      border-color: transparent;\n",
              "      border-right-color: var(--fill-color);\n",
              "      border-bottom-color: var(--fill-color);\n",
              "    }\n",
              "    90% {\n",
              "      border-color: transparent;\n",
              "      border-bottom-color: var(--fill-color);\n",
              "    }\n",
              "  }\n",
              "</style>\n",
              "\n",
              "  <script>\n",
              "    async function quickchart(key) {\n",
              "      const quickchartButtonEl =\n",
              "        document.querySelector('#' + key + ' button');\n",
              "      quickchartButtonEl.disabled = true;  // To prevent multiple clicks.\n",
              "      quickchartButtonEl.classList.add('colab-df-spinner');\n",
              "      try {\n",
              "        const charts = await google.colab.kernel.invokeFunction(\n",
              "            'suggestCharts', [key], {});\n",
              "      } catch (error) {\n",
              "        console.error('Error during call to suggestCharts:', error);\n",
              "      }\n",
              "      quickchartButtonEl.classList.remove('colab-df-spinner');\n",
              "      quickchartButtonEl.classList.add('colab-df-quickchart-complete');\n",
              "    }\n",
              "    (() => {\n",
              "      let quickchartButtonEl =\n",
              "        document.querySelector('#df-1b42a2a2-87bc-4d10-a6bc-bbd9f92ef834 button');\n",
              "      quickchartButtonEl.style.display =\n",
              "        google.colab.kernel.accessAllowed ? 'block' : 'none';\n",
              "    })();\n",
              "  </script>\n",
              "</div>\n",
              "    </div>\n",
              "  </div>\n"
            ],
            "application/vnd.google.colaboratory.intrinsic+json": {
              "type": "dataframe",
              "variable_name": "df",
              "summary": "{\n  \"name\": \"df\",\n  \"rows\": 100,\n  \"fields\": [\n    {\n      \"column\": \"integer\",\n      \"properties\": {\n        \"dtype\": \"number\",\n        \"std\": 2,\n        \"min\": 1,\n        \"max\": 9,\n        \"num_unique_values\": 9,\n        \"samples\": [\n          4,\n          9,\n          8\n        ],\n        \"semantic_type\": \"\",\n        \"description\": \"\"\n      }\n    },\n    {\n      \"column\": \"datetime\",\n      \"properties\": {\n        \"dtype\": \"object\",\n        \"num_unique_values\": 100,\n        \"samples\": [\n          \"2015-01-01 00:01:23\",\n          \"2015-01-01 00:00:53\",\n          \"2015-01-01 00:01:10\"\n        ],\n        \"semantic_type\": \"\",\n        \"description\": \"\"\n      }\n    },\n    {\n      \"column\": \"category\",\n      \"properties\": {\n        \"dtype\": \"number\",\n        \"std\": 0,\n        \"min\": 0,\n        \"max\": 0,\n        \"num_unique_values\": 1,\n        \"samples\": [\n          0\n        ],\n        \"semantic_type\": \"\",\n        \"description\": \"\"\n      }\n    }\n  ]\n}"
            }
          },
          "metadata": {},
          "execution_count": 33
        }
      ],
      "source": [
        "# load library\n",
        "import pandas as pd\n",
        "\n",
        "# create url\n",
        "url = 'https://raw.githubusercontent.com/chrisalbon/sim_data/master/data.csv'\n",
        "\n",
        "# load data\n",
        "df = pd.read_csv(url)\n",
        "\n",
        "df.head(2)"
      ]
    },
    {
      "cell_type": "markdown",
      "metadata": {
        "id": "LcPty3gTLeaX"
      },
      "source": [
        "### 2.4 Loading an Excel File\n",
        "#### Problem\n",
        "You need to import an Excel spreadsheet\n",
        "\n",
        "#### Solution\n",
        "Use the `pandas` library's `read_excel` to load an Excel spreadsheet:"
      ]
    },
    {
      "cell_type": "code",
      "execution_count": 34,
      "metadata": {
        "id": "5_eTdwupLeaX",
        "outputId": "136cbc85-06bf-4323-f375-7c7d34f1672d",
        "colab": {
          "base_uri": "https://localhost:8080/",
          "height": 112
        }
      },
      "outputs": [
        {
          "output_type": "execute_result",
          "data": {
            "text/plain": [
              "         0                    1         2\n",
              "0  integer             datetime  category\n",
              "1        5  2015-01-01 00:00:00         0"
            ],
            "text/html": [
              "\n",
              "  <div id=\"df-e38eb5e4-9d64-46ee-bcfc-a82c90556148\" class=\"colab-df-container\">\n",
              "    <div>\n",
              "<style scoped>\n",
              "    .dataframe tbody tr th:only-of-type {\n",
              "        vertical-align: middle;\n",
              "    }\n",
              "\n",
              "    .dataframe tbody tr th {\n",
              "        vertical-align: top;\n",
              "    }\n",
              "\n",
              "    .dataframe thead th {\n",
              "        text-align: right;\n",
              "    }\n",
              "</style>\n",
              "<table border=\"1\" class=\"dataframe\">\n",
              "  <thead>\n",
              "    <tr style=\"text-align: right;\">\n",
              "      <th></th>\n",
              "      <th>0</th>\n",
              "      <th>1</th>\n",
              "      <th>2</th>\n",
              "    </tr>\n",
              "  </thead>\n",
              "  <tbody>\n",
              "    <tr>\n",
              "      <th>0</th>\n",
              "      <td>integer</td>\n",
              "      <td>datetime</td>\n",
              "      <td>category</td>\n",
              "    </tr>\n",
              "    <tr>\n",
              "      <th>1</th>\n",
              "      <td>5</td>\n",
              "      <td>2015-01-01 00:00:00</td>\n",
              "      <td>0</td>\n",
              "    </tr>\n",
              "  </tbody>\n",
              "</table>\n",
              "</div>\n",
              "    <div class=\"colab-df-buttons\">\n",
              "\n",
              "  <div class=\"colab-df-container\">\n",
              "    <button class=\"colab-df-convert\" onclick=\"convertToInteractive('df-e38eb5e4-9d64-46ee-bcfc-a82c90556148')\"\n",
              "            title=\"Convert this dataframe to an interactive table.\"\n",
              "            style=\"display:none;\">\n",
              "\n",
              "  <svg xmlns=\"http://www.w3.org/2000/svg\" height=\"24px\" viewBox=\"0 -960 960 960\">\n",
              "    <path d=\"M120-120v-720h720v720H120Zm60-500h600v-160H180v160Zm220 220h160v-160H400v160Zm0 220h160v-160H400v160ZM180-400h160v-160H180v160Zm440 0h160v-160H620v160ZM180-180h160v-160H180v160Zm440 0h160v-160H620v160Z\"/>\n",
              "  </svg>\n",
              "    </button>\n",
              "\n",
              "  <style>\n",
              "    .colab-df-container {\n",
              "      display:flex;\n",
              "      gap: 12px;\n",
              "    }\n",
              "\n",
              "    .colab-df-convert {\n",
              "      background-color: #E8F0FE;\n",
              "      border: none;\n",
              "      border-radius: 50%;\n",
              "      cursor: pointer;\n",
              "      display: none;\n",
              "      fill: #1967D2;\n",
              "      height: 32px;\n",
              "      padding: 0 0 0 0;\n",
              "      width: 32px;\n",
              "    }\n",
              "\n",
              "    .colab-df-convert:hover {\n",
              "      background-color: #E2EBFA;\n",
              "      box-shadow: 0px 1px 2px rgba(60, 64, 67, 0.3), 0px 1px 3px 1px rgba(60, 64, 67, 0.15);\n",
              "      fill: #174EA6;\n",
              "    }\n",
              "\n",
              "    .colab-df-buttons div {\n",
              "      margin-bottom: 4px;\n",
              "    }\n",
              "\n",
              "    [theme=dark] .colab-df-convert {\n",
              "      background-color: #3B4455;\n",
              "      fill: #D2E3FC;\n",
              "    }\n",
              "\n",
              "    [theme=dark] .colab-df-convert:hover {\n",
              "      background-color: #434B5C;\n",
              "      box-shadow: 0px 1px 3px 1px rgba(0, 0, 0, 0.15);\n",
              "      filter: drop-shadow(0px 1px 2px rgba(0, 0, 0, 0.3));\n",
              "      fill: #FFFFFF;\n",
              "    }\n",
              "  </style>\n",
              "\n",
              "    <script>\n",
              "      const buttonEl =\n",
              "        document.querySelector('#df-e38eb5e4-9d64-46ee-bcfc-a82c90556148 button.colab-df-convert');\n",
              "      buttonEl.style.display =\n",
              "        google.colab.kernel.accessAllowed ? 'block' : 'none';\n",
              "\n",
              "      async function convertToInteractive(key) {\n",
              "        const element = document.querySelector('#df-e38eb5e4-9d64-46ee-bcfc-a82c90556148');\n",
              "        const dataTable =\n",
              "          await google.colab.kernel.invokeFunction('convertToInteractive',\n",
              "                                                    [key], {});\n",
              "        if (!dataTable) return;\n",
              "\n",
              "        const docLinkHtml = 'Like what you see? Visit the ' +\n",
              "          '<a target=\"_blank\" href=https://colab.research.google.com/notebooks/data_table.ipynb>data table notebook</a>'\n",
              "          + ' to learn more about interactive tables.';\n",
              "        element.innerHTML = '';\n",
              "        dataTable['output_type'] = 'display_data';\n",
              "        await google.colab.output.renderOutput(dataTable, element);\n",
              "        const docLink = document.createElement('div');\n",
              "        docLink.innerHTML = docLinkHtml;\n",
              "        element.appendChild(docLink);\n",
              "      }\n",
              "    </script>\n",
              "  </div>\n",
              "\n",
              "\n",
              "<div id=\"df-6cdf81ef-422c-4976-8181-045e6a305a1c\">\n",
              "  <button class=\"colab-df-quickchart\" onclick=\"quickchart('df-6cdf81ef-422c-4976-8181-045e6a305a1c')\"\n",
              "            title=\"Suggest charts\"\n",
              "            style=\"display:none;\">\n",
              "\n",
              "<svg xmlns=\"http://www.w3.org/2000/svg\" height=\"24px\"viewBox=\"0 0 24 24\"\n",
              "     width=\"24px\">\n",
              "    <g>\n",
              "        <path d=\"M19 3H5c-1.1 0-2 .9-2 2v14c0 1.1.9 2 2 2h14c1.1 0 2-.9 2-2V5c0-1.1-.9-2-2-2zM9 17H7v-7h2v7zm4 0h-2V7h2v10zm4 0h-2v-4h2v4z\"/>\n",
              "    </g>\n",
              "</svg>\n",
              "  </button>\n",
              "\n",
              "<style>\n",
              "  .colab-df-quickchart {\n",
              "      --bg-color: #E8F0FE;\n",
              "      --fill-color: #1967D2;\n",
              "      --hover-bg-color: #E2EBFA;\n",
              "      --hover-fill-color: #174EA6;\n",
              "      --disabled-fill-color: #AAA;\n",
              "      --disabled-bg-color: #DDD;\n",
              "  }\n",
              "\n",
              "  [theme=dark] .colab-df-quickchart {\n",
              "      --bg-color: #3B4455;\n",
              "      --fill-color: #D2E3FC;\n",
              "      --hover-bg-color: #434B5C;\n",
              "      --hover-fill-color: #FFFFFF;\n",
              "      --disabled-bg-color: #3B4455;\n",
              "      --disabled-fill-color: #666;\n",
              "  }\n",
              "\n",
              "  .colab-df-quickchart {\n",
              "    background-color: var(--bg-color);\n",
              "    border: none;\n",
              "    border-radius: 50%;\n",
              "    cursor: pointer;\n",
              "    display: none;\n",
              "    fill: var(--fill-color);\n",
              "    height: 32px;\n",
              "    padding: 0;\n",
              "    width: 32px;\n",
              "  }\n",
              "\n",
              "  .colab-df-quickchart:hover {\n",
              "    background-color: var(--hover-bg-color);\n",
              "    box-shadow: 0 1px 2px rgba(60, 64, 67, 0.3), 0 1px 3px 1px rgba(60, 64, 67, 0.15);\n",
              "    fill: var(--button-hover-fill-color);\n",
              "  }\n",
              "\n",
              "  .colab-df-quickchart-complete:disabled,\n",
              "  .colab-df-quickchart-complete:disabled:hover {\n",
              "    background-color: var(--disabled-bg-color);\n",
              "    fill: var(--disabled-fill-color);\n",
              "    box-shadow: none;\n",
              "  }\n",
              "\n",
              "  .colab-df-spinner {\n",
              "    border: 2px solid var(--fill-color);\n",
              "    border-color: transparent;\n",
              "    border-bottom-color: var(--fill-color);\n",
              "    animation:\n",
              "      spin 1s steps(1) infinite;\n",
              "  }\n",
              "\n",
              "  @keyframes spin {\n",
              "    0% {\n",
              "      border-color: transparent;\n",
              "      border-bottom-color: var(--fill-color);\n",
              "      border-left-color: var(--fill-color);\n",
              "    }\n",
              "    20% {\n",
              "      border-color: transparent;\n",
              "      border-left-color: var(--fill-color);\n",
              "      border-top-color: var(--fill-color);\n",
              "    }\n",
              "    30% {\n",
              "      border-color: transparent;\n",
              "      border-left-color: var(--fill-color);\n",
              "      border-top-color: var(--fill-color);\n",
              "      border-right-color: var(--fill-color);\n",
              "    }\n",
              "    40% {\n",
              "      border-color: transparent;\n",
              "      border-right-color: var(--fill-color);\n",
              "      border-top-color: var(--fill-color);\n",
              "    }\n",
              "    60% {\n",
              "      border-color: transparent;\n",
              "      border-right-color: var(--fill-color);\n",
              "    }\n",
              "    80% {\n",
              "      border-color: transparent;\n",
              "      border-right-color: var(--fill-color);\n",
              "      border-bottom-color: var(--fill-color);\n",
              "    }\n",
              "    90% {\n",
              "      border-color: transparent;\n",
              "      border-bottom-color: var(--fill-color);\n",
              "    }\n",
              "  }\n",
              "</style>\n",
              "\n",
              "  <script>\n",
              "    async function quickchart(key) {\n",
              "      const quickchartButtonEl =\n",
              "        document.querySelector('#' + key + ' button');\n",
              "      quickchartButtonEl.disabled = true;  // To prevent multiple clicks.\n",
              "      quickchartButtonEl.classList.add('colab-df-spinner');\n",
              "      try {\n",
              "        const charts = await google.colab.kernel.invokeFunction(\n",
              "            'suggestCharts', [key], {});\n",
              "      } catch (error) {\n",
              "        console.error('Error during call to suggestCharts:', error);\n",
              "      }\n",
              "      quickchartButtonEl.classList.remove('colab-df-spinner');\n",
              "      quickchartButtonEl.classList.add('colab-df-quickchart-complete');\n",
              "    }\n",
              "    (() => {\n",
              "      let quickchartButtonEl =\n",
              "        document.querySelector('#df-6cdf81ef-422c-4976-8181-045e6a305a1c button');\n",
              "      quickchartButtonEl.style.display =\n",
              "        google.colab.kernel.accessAllowed ? 'block' : 'none';\n",
              "    })();\n",
              "  </script>\n",
              "</div>\n",
              "    </div>\n",
              "  </div>\n"
            ],
            "application/vnd.google.colaboratory.intrinsic+json": {
              "type": "dataframe",
              "variable_name": "df",
              "summary": "{\n  \"name\": \"df\",\n  \"rows\": 101,\n  \"fields\": [\n    {\n      \"column\": 0,\n      \"properties\": {\n        \"dtype\": \"category\",\n        \"num_unique_values\": 10,\n        \"samples\": [\n          4,\n          5,\n          1\n        ],\n        \"semantic_type\": \"\",\n        \"description\": \"\"\n      }\n    },\n    {\n      \"column\": 1,\n      \"properties\": {\n        \"dtype\": \"string\",\n        \"num_unique_values\": 101,\n        \"samples\": [\n          \"2015-01-01 00:01:23\",\n          \"2015-01-01 00:00:54\",\n          \"2015-01-01 00:01:05\"\n        ],\n        \"semantic_type\": \"\",\n        \"description\": \"\"\n      }\n    },\n    {\n      \"column\": 2,\n      \"properties\": {\n        \"dtype\": \"category\",\n        \"num_unique_values\": 2,\n        \"samples\": [\n          0,\n          \"category\"\n        ],\n        \"semantic_type\": \"\",\n        \"description\": \"\"\n      }\n    }\n  ]\n}"
            }
          },
          "metadata": {},
          "execution_count": 34
        }
      ],
      "source": [
        "# load library\n",
        "import pandas as pd\n",
        "\n",
        "# create url\n",
        "url = 'https://raw.githubusercontent.com/chrisalbon/sim_data/master/data.xlsx'\n",
        "\n",
        "# load data\n",
        "df = pd.read_excel(url, sheet_name=0, header=None)\n",
        "\n",
        "# view the first two rows\n",
        "df.head(2)"
      ]
    },
    {
      "cell_type": "markdown",
      "metadata": {
        "id": "JT2tjF7QLeaX"
      },
      "source": [
        "### 2.5 Loading a JSON File\n",
        "#### Problem\n",
        "You need to load a JSON file for data preprocessing\n",
        "\n",
        "#### Solution\n",
        "The pandas library provides `read_json` to convert a JSON file a pandas object:"
      ]
    },
    {
      "cell_type": "code",
      "execution_count": null,
      "metadata": {
        "id": "WdR3MEbULeaY",
        "outputId": "11b4a8e7-e8d4-4f86-ebeb-4f607f8f8aeb"
      },
      "outputs": [
        {
          "data": {
            "text/html": [
              "<div>\n",
              "<style scoped>\n",
              "    .dataframe tbody tr th:only-of-type {\n",
              "        vertical-align: middle;\n",
              "    }\n",
              "\n",
              "    .dataframe tbody tr th {\n",
              "        vertical-align: top;\n",
              "    }\n",
              "\n",
              "    .dataframe thead th {\n",
              "        text-align: right;\n",
              "    }\n",
              "</style>\n",
              "<table border=\"1\" class=\"dataframe\">\n",
              "  <thead>\n",
              "    <tr style=\"text-align: right;\">\n",
              "      <th></th>\n",
              "      <th>archive_url</th>\n",
              "      <th>archived</th>\n",
              "      <th>assignees_url</th>\n",
              "      <th>blobs_url</th>\n",
              "      <th>branches_url</th>\n",
              "      <th>clone_url</th>\n",
              "      <th>collaborators_url</th>\n",
              "      <th>comments_url</th>\n",
              "      <th>commits_url</th>\n",
              "      <th>compare_url</th>\n",
              "      <th>...</th>\n",
              "      <th>subscribers_url</th>\n",
              "      <th>subscription_url</th>\n",
              "      <th>svn_url</th>\n",
              "      <th>tags_url</th>\n",
              "      <th>teams_url</th>\n",
              "      <th>trees_url</th>\n",
              "      <th>updated_at</th>\n",
              "      <th>url</th>\n",
              "      <th>watchers</th>\n",
              "      <th>watchers_count</th>\n",
              "    </tr>\n",
              "  </thead>\n",
              "  <tbody>\n",
              "    <tr>\n",
              "      <th>0</th>\n",
              "      <td>https://api.github.com/repos/f00-/anscombes-qu...</td>\n",
              "      <td>False</td>\n",
              "      <td>https://api.github.com/repos/f00-/anscombes-qu...</td>\n",
              "      <td>https://api.github.com/repos/f00-/anscombes-qu...</td>\n",
              "      <td>https://api.github.com/repos/f00-/anscombes-qu...</td>\n",
              "      <td>https://github.com/f00-/anscombes-quartet.git</td>\n",
              "      <td>https://api.github.com/repos/f00-/anscombes-qu...</td>\n",
              "      <td>https://api.github.com/repos/f00-/anscombes-qu...</td>\n",
              "      <td>https://api.github.com/repos/f00-/anscombes-qu...</td>\n",
              "      <td>https://api.github.com/repos/f00-/anscombes-qu...</td>\n",
              "      <td>...</td>\n",
              "      <td>https://api.github.com/repos/f00-/anscombes-qu...</td>\n",
              "      <td>https://api.github.com/repos/f00-/anscombes-qu...</td>\n",
              "      <td>https://github.com/f00-/anscombes-quartet</td>\n",
              "      <td>https://api.github.com/repos/f00-/anscombes-qu...</td>\n",
              "      <td>https://api.github.com/repos/f00-/anscombes-qu...</td>\n",
              "      <td>https://api.github.com/repos/f00-/anscombes-qu...</td>\n",
              "      <td>2018-08-08 04:37:53</td>\n",
              "      <td>https://api.github.com/repos/f00-/anscombes-qu...</td>\n",
              "      <td>0</td>\n",
              "      <td>0</td>\n",
              "    </tr>\n",
              "    <tr>\n",
              "      <th>1</th>\n",
              "      <td>https://api.github.com/repos/f00-/autograd-tut...</td>\n",
              "      <td>False</td>\n",
              "      <td>https://api.github.com/repos/f00-/autograd-tut...</td>\n",
              "      <td>https://api.github.com/repos/f00-/autograd-tut...</td>\n",
              "      <td>https://api.github.com/repos/f00-/autograd-tut...</td>\n",
              "      <td>https://github.com/f00-/autograd-tutorial.git</td>\n",
              "      <td>https://api.github.com/repos/f00-/autograd-tut...</td>\n",
              "      <td>https://api.github.com/repos/f00-/autograd-tut...</td>\n",
              "      <td>https://api.github.com/repos/f00-/autograd-tut...</td>\n",
              "      <td>https://api.github.com/repos/f00-/autograd-tut...</td>\n",
              "      <td>...</td>\n",
              "      <td>https://api.github.com/repos/f00-/autograd-tut...</td>\n",
              "      <td>https://api.github.com/repos/f00-/autograd-tut...</td>\n",
              "      <td>https://github.com/f00-/autograd-tutorial</td>\n",
              "      <td>https://api.github.com/repos/f00-/autograd-tut...</td>\n",
              "      <td>https://api.github.com/repos/f00-/autograd-tut...</td>\n",
              "      <td>https://api.github.com/repos/f00-/autograd-tut...</td>\n",
              "      <td>2018-06-06 03:17:19</td>\n",
              "      <td>https://api.github.com/repos/f00-/autograd-tut...</td>\n",
              "      <td>0</td>\n",
              "      <td>0</td>\n",
              "    </tr>\n",
              "  </tbody>\n",
              "</table>\n",
              "<p>2 rows × 72 columns</p>\n",
              "</div>"
            ],
            "text/plain": [
              "                                         archive_url  archived  \\\n",
              "0  https://api.github.com/repos/f00-/anscombes-qu...     False   \n",
              "1  https://api.github.com/repos/f00-/autograd-tut...     False   \n",
              "\n",
              "                                       assignees_url  \\\n",
              "0  https://api.github.com/repos/f00-/anscombes-qu...   \n",
              "1  https://api.github.com/repos/f00-/autograd-tut...   \n",
              "\n",
              "                                           blobs_url  \\\n",
              "0  https://api.github.com/repos/f00-/anscombes-qu...   \n",
              "1  https://api.github.com/repos/f00-/autograd-tut...   \n",
              "\n",
              "                                        branches_url  \\\n",
              "0  https://api.github.com/repos/f00-/anscombes-qu...   \n",
              "1  https://api.github.com/repos/f00-/autograd-tut...   \n",
              "\n",
              "                                       clone_url  \\\n",
              "0  https://github.com/f00-/anscombes-quartet.git   \n",
              "1  https://github.com/f00-/autograd-tutorial.git   \n",
              "\n",
              "                                   collaborators_url  \\\n",
              "0  https://api.github.com/repos/f00-/anscombes-qu...   \n",
              "1  https://api.github.com/repos/f00-/autograd-tut...   \n",
              "\n",
              "                                        comments_url  \\\n",
              "0  https://api.github.com/repos/f00-/anscombes-qu...   \n",
              "1  https://api.github.com/repos/f00-/autograd-tut...   \n",
              "\n",
              "                                         commits_url  \\\n",
              "0  https://api.github.com/repos/f00-/anscombes-qu...   \n",
              "1  https://api.github.com/repos/f00-/autograd-tut...   \n",
              "\n",
              "                                         compare_url       ...        \\\n",
              "0  https://api.github.com/repos/f00-/anscombes-qu...       ...         \n",
              "1  https://api.github.com/repos/f00-/autograd-tut...       ...         \n",
              "\n",
              "                                     subscribers_url  \\\n",
              "0  https://api.github.com/repos/f00-/anscombes-qu...   \n",
              "1  https://api.github.com/repos/f00-/autograd-tut...   \n",
              "\n",
              "                                    subscription_url  \\\n",
              "0  https://api.github.com/repos/f00-/anscombes-qu...   \n",
              "1  https://api.github.com/repos/f00-/autograd-tut...   \n",
              "\n",
              "                                     svn_url  \\\n",
              "0  https://github.com/f00-/anscombes-quartet   \n",
              "1  https://github.com/f00-/autograd-tutorial   \n",
              "\n",
              "                                            tags_url  \\\n",
              "0  https://api.github.com/repos/f00-/anscombes-qu...   \n",
              "1  https://api.github.com/repos/f00-/autograd-tut...   \n",
              "\n",
              "                                           teams_url  \\\n",
              "0  https://api.github.com/repos/f00-/anscombes-qu...   \n",
              "1  https://api.github.com/repos/f00-/autograd-tut...   \n",
              "\n",
              "                                           trees_url          updated_at  \\\n",
              "0  https://api.github.com/repos/f00-/anscombes-qu... 2018-08-08 04:37:53   \n",
              "1  https://api.github.com/repos/f00-/autograd-tut... 2018-06-06 03:17:19   \n",
              "\n",
              "                                                 url  watchers  watchers_count  \n",
              "0  https://api.github.com/repos/f00-/anscombes-qu...         0               0  \n",
              "1  https://api.github.com/repos/f00-/autograd-tut...         0               0  \n",
              "\n",
              "[2 rows x 72 columns]"
            ]
          },
          "execution_count": 7,
          "metadata": {},
          "output_type": "execute_result"
        }
      ],
      "source": [
        "# load library\n",
        "import pandas as pd\n",
        "\n",
        "# create url\n",
        "url = \"https://api.github.com/users/f00-/repos\"\n",
        "\n",
        "# load data\n",
        "df = pd.read_json(url, orient=\"columns\")\n",
        "\n",
        "# view first two rows\n",
        "df.head(2)"
      ]
    },
    {
      "cell_type": "markdown",
      "metadata": {
        "id": "nv8lsJGlLeaY"
      },
      "source": [
        "### 2.6 Querying a SQL Database\n",
        "#### Problem\n",
        "You need to load data from a databaseu sing structured query language (SQL)\n",
        "\n",
        "#### Solution\n",
        "`pandas`' `read_sql_query` allows us to make a SQL query to a database and load it:"
      ]
    },
    {
      "cell_type": "code",
      "execution_count": null,
      "metadata": {
        "id": "BtsEDiGmLeaY",
        "outputId": "08e7ece9-5b91-46f0-dbc0-980fbecbdb0a"
      },
      "outputs": [
        {
          "name": "stdout",
          "output_type": "stream",
          "text": [
            "['albums', 'artists', 'customers', 'employees', 'genres', 'invoice_items', 'invoices', 'media_types', 'playlist_track', 'playlists', 'sqlite_sequence', 'sqlite_stat1', 'tracks']\n"
          ]
        },
        {
          "data": {
            "text/html": [
              "<div>\n",
              "<style scoped>\n",
              "    .dataframe tbody tr th:only-of-type {\n",
              "        vertical-align: middle;\n",
              "    }\n",
              "\n",
              "    .dataframe tbody tr th {\n",
              "        vertical-align: top;\n",
              "    }\n",
              "\n",
              "    .dataframe thead th {\n",
              "        text-align: right;\n",
              "    }\n",
              "</style>\n",
              "<table border=\"1\" class=\"dataframe\">\n",
              "  <thead>\n",
              "    <tr style=\"text-align: right;\">\n",
              "      <th></th>\n",
              "      <th>AlbumId</th>\n",
              "      <th>Title</th>\n",
              "      <th>ArtistId</th>\n",
              "    </tr>\n",
              "  </thead>\n",
              "  <tbody>\n",
              "    <tr>\n",
              "      <th>0</th>\n",
              "      <td>1</td>\n",
              "      <td>For Those About To Rock We Salute You</td>\n",
              "      <td>1</td>\n",
              "    </tr>\n",
              "    <tr>\n",
              "      <th>1</th>\n",
              "      <td>2</td>\n",
              "      <td>Balls to the Wall</td>\n",
              "      <td>2</td>\n",
              "    </tr>\n",
              "    <tr>\n",
              "      <th>2</th>\n",
              "      <td>3</td>\n",
              "      <td>Restless and Wild</td>\n",
              "      <td>2</td>\n",
              "    </tr>\n",
              "    <tr>\n",
              "      <th>3</th>\n",
              "      <td>4</td>\n",
              "      <td>Let There Be Rock</td>\n",
              "      <td>1</td>\n",
              "    </tr>\n",
              "    <tr>\n",
              "      <th>4</th>\n",
              "      <td>5</td>\n",
              "      <td>Big Ones</td>\n",
              "      <td>3</td>\n",
              "    </tr>\n",
              "  </tbody>\n",
              "</table>\n",
              "</div>"
            ],
            "text/plain": [
              "   AlbumId                                  Title  ArtistId\n",
              "0        1  For Those About To Rock We Salute You         1\n",
              "1        2                      Balls to the Wall         2\n",
              "2        3                      Restless and Wild         2\n",
              "3        4                      Let There Be Rock         1\n",
              "4        5                               Big Ones         3"
            ]
          },
          "execution_count": 9,
          "metadata": {},
          "output_type": "execute_result"
        }
      ],
      "source": [
        "# load libraries\n",
        "import pandas as pd\n",
        "from sqlalchemy import create_engine\n",
        "\n",
        "# create a connection to the database\n",
        "db_connection = create_engine('sqlite:///sample.db')\n",
        "\n",
        "# see table names\n",
        "print(db_connection.table_names())\n",
        "\n",
        "# load data\n",
        "df = pd.read_sql_query('SELECT * FROM albums', db_connection)\n",
        "\n",
        "df.head()"
      ]
    },
    {
      "cell_type": "code",
      "execution_count": null,
      "metadata": {
        "id": "ZQgLZ1U_LeaY"
      },
      "outputs": [],
      "source": []
    }
  ],
  "metadata": {
    "kernelspec": {
      "display_name": "Python [conda env:machine_learning_cookbook]",
      "language": "python",
      "name": "conda-env-machine_learning_cookbook-py"
    },
    "language_info": {
      "codemirror_mode": {
        "name": "ipython",
        "version": 3
      },
      "file_extension": ".py",
      "mimetype": "text/x-python",
      "name": "python",
      "nbconvert_exporter": "python",
      "pygments_lexer": "ipython3",
      "version": "3.6.6"
    },
    "colab": {
      "provenance": []
    }
  },
  "nbformat": 4,
  "nbformat_minor": 0
}
