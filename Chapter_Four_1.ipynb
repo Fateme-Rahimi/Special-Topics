{
  "nbformat": 4,
  "nbformat_minor": 0,
  "metadata": {
    "colab": {
      "provenance": [],
      "authorship_tag": "ABX9TyNhkrN1tgvOk5eoAZkZ7xO8"
    },
    "kernelspec": {
      "name": "python3",
      "display_name": "Python 3"
    },
    "language_info": {
      "name": "python"
    }
  },
  "cells": [
    {
      "cell_type": "markdown",
      "source": [
        "# 4.1 Rescaling a Feature"
      ],
      "metadata": {
        "id": "WcsSPmSERWZP"
      }
    },
    {
      "cell_type": "code",
      "execution_count": 31,
      "metadata": {
        "colab": {
          "base_uri": "https://localhost:8080/"
        },
        "id": "Dqzd5X60PeFW",
        "outputId": "42c81ae9-a640-40b9-f945-d3054600867e"
      },
      "outputs": [
        {
          "output_type": "execute_result",
          "data": {
            "text/plain": [
              "array([[0.        ],\n",
              "       [0.28571429],\n",
              "       [0.35714286],\n",
              "       [0.42857143],\n",
              "       [1.        ]])"
            ]
          },
          "metadata": {},
          "execution_count": 31
        }
      ],
      "source": [
        "# Load libraries\n",
        "import numpy as np\n",
        "from sklearn import preprocessing\n",
        "# Create feature\n",
        "feature = np.array([[-500.5],\n",
        "                  [-100.1],\n",
        "                  [0],\n",
        "                  [100.1],\n",
        "                  [900.9]])\n",
        "# Create scaler\n",
        "minmax_scale = preprocessing.MinMaxScaler(feature_range=(0, 1))\n",
        "# Scale feature\n",
        "scaled_feature = minmax_scale.fit_transform(feature)\n",
        "# Show feature\n",
        "scaled_feature"
      ]
    },
    {
      "cell_type": "code",
      "source": [
        "# Load libraries\n",
        "import numpy as np\n",
        "from sklearn import preprocessing\n",
        "# Create feature\n",
        "feature = np.array([[-500.5],\n",
        "                  [-100.1],\n",
        "                  [0],\n",
        "                  [100.1],\n",
        "                  [900.9]])\n",
        "# Create scaler\n",
        "minmax_scale = preprocessing.MinMaxScaler(feature_range=(-1, 1))\n",
        "# Scale feature\n",
        "scaled_feature = minmax_scale.fit_transform(feature)\n",
        "# Show feature\n",
        "scaled_feature"
      ],
      "metadata": {
        "colab": {
          "base_uri": "https://localhost:8080/"
        },
        "id": "oDKPfjOaRllk",
        "outputId": "04afc61c-29a7-496e-e75a-c211f59784ba"
      },
      "execution_count": 32,
      "outputs": [
        {
          "output_type": "execute_result",
          "data": {
            "text/plain": [
              "array([[-1.        ],\n",
              "       [-0.42857143],\n",
              "       [-0.28571429],\n",
              "       [-0.14285714],\n",
              "       [ 1.        ]])"
            ]
          },
          "metadata": {},
          "execution_count": 32
        }
      ]
    },
    {
      "cell_type": "markdown",
      "source": [
        "# 4.2 Standardizing a Feature"
      ],
      "metadata": {
        "id": "8fYWZxBKSu7S"
      }
    },
    {
      "cell_type": "code",
      "source": [
        "# Load libraries\n",
        "import numpy as np\n",
        "from sklearn import preprocessing\n",
        "# Create feature\n",
        "x = np.array([[-1000.1],\n",
        "            [-200.2],\n",
        "            [500.5],\n",
        "            [600.6],\n",
        "            [9000.9]])\n",
        "# Create scaler\n",
        "scaler = preprocessing.StandardScaler()\n",
        "# Transform the feature\n",
        "standardized = scaler.fit_transform(x)\n",
        "# Show feature\n",
        "standardized"
      ],
      "metadata": {
        "id": "ISoGWrV2Rzrz"
      },
      "execution_count": null,
      "outputs": []
    },
    {
      "cell_type": "code",
      "source": [
        "# Print mean and standard deviation\n",
        "print(\"Mean:\", round(standardized.mean()))\n",
        "print(\"Standard deviation:\", standardized.std())"
      ],
      "metadata": {
        "id": "-1KvdxFKTMIE"
      },
      "execution_count": null,
      "outputs": []
    },
    {
      "cell_type": "code",
      "source": [
        "# Create scaler\n",
        "robust_scaler = preprocessing.RobustScaler()\n",
        "# Transform feature\n",
        "robust_scaler.fit_transform(x)"
      ],
      "metadata": {
        "colab": {
          "base_uri": "https://localhost:8080/"
        },
        "id": "pJ4abxBQTWci",
        "outputId": "1af9564b-649d-499e-9f75-d2745ec33f34"
      },
      "execution_count": 33,
      "outputs": [
        {
          "output_type": "execute_result",
          "data": {
            "text/plain": [
              "array([[-1.87387612],\n",
              "       [-0.875     ],\n",
              "       [ 0.        ],\n",
              "       [ 0.125     ],\n",
              "       [10.61488511]])"
            ]
          },
          "metadata": {},
          "execution_count": 33
        }
      ]
    },
    {
      "cell_type": "markdown",
      "source": [
        "# 4.3 Normalizing Observations"
      ],
      "metadata": {
        "id": "wg1JQSnnT4ss"
      }
    },
    {
      "cell_type": "code",
      "source": [
        "from sklearn.preprocessing import Normalizer\n",
        "# Create feature matrix\n",
        "features = np.array([[0.5, 0.5],\n",
        "                     [1.1, 3.4],\n",
        "                     [1.5, 20.2],\n",
        "                     [1.63, 34.4],\n",
        "                     [10.9, 3.3]])\n",
        "# Create normalizer\n",
        "normalizer = Normalizer(norm=\"l2\")\n",
        "# Transform feature matrix\n",
        "normalizer.transform(features)"
      ],
      "metadata": {
        "colab": {
          "base_uri": "https://localhost:8080/"
        },
        "id": "V5-xYaeWTYTS",
        "outputId": "5bf42a92-cdbb-45a0-fe5b-fc97335775f6"
      },
      "execution_count": null,
      "outputs": [
        {
          "output_type": "execute_result",
          "data": {
            "text/plain": [
              "array([[0.70710678, 0.70710678],\n",
              "       [0.30782029, 0.95144452],\n",
              "       [0.07405353, 0.99725427],\n",
              "       [0.04733062, 0.99887928],\n",
              "       [0.95709822, 0.28976368]])"
            ]
          },
          "metadata": {},
          "execution_count": 7
        }
      ]
    },
    {
      "cell_type": "code",
      "source": [
        " # Transform feature matrix\n",
        " features_l2_norm = Normalizer(norm=\"l2\").transform(features)\n",
        " # Show feature matrix\n",
        " features_l2_norm"
      ],
      "metadata": {
        "colab": {
          "base_uri": "https://localhost:8080/"
        },
        "id": "mOqGu1K8UwsY",
        "outputId": "1f0c6de9-d4c7-4386-bf48-161adaf761e4"
      },
      "execution_count": null,
      "outputs": [
        {
          "output_type": "execute_result",
          "data": {
            "text/plain": [
              "array([[0.70710678, 0.70710678],\n",
              "       [0.30782029, 0.95144452],\n",
              "       [0.07405353, 0.99725427],\n",
              "       [0.04733062, 0.99887928],\n",
              "       [0.95709822, 0.28976368]])"
            ]
          },
          "metadata": {},
          "execution_count": 8
        }
      ]
    },
    {
      "cell_type": "code",
      "source": [
        "# Transform feature matrix\n",
        "features_l1_norm = Normalizer(norm=\"l1\").transform(features)\n",
        "# Show feature matrix\n",
        "features_l1_norm"
      ],
      "metadata": {
        "colab": {
          "base_uri": "https://localhost:8080/"
        },
        "id": "bcwR_9SSU9fH",
        "outputId": "1694d6a8-20a2-4392-9b24-fbb73bc20cef"
      },
      "execution_count": null,
      "outputs": [
        {
          "output_type": "execute_result",
          "data": {
            "text/plain": [
              "array([[0.5       , 0.5       ],\n",
              "       [0.24444444, 0.75555556],\n",
              "       [0.06912442, 0.93087558],\n",
              "       [0.04524008, 0.95475992],\n",
              "       [0.76760563, 0.23239437]])"
            ]
          },
          "metadata": {},
          "execution_count": 12
        }
      ]
    },
    {
      "cell_type": "code",
      "source": [
        "# Print sum\n",
        "print(\"Sum of the first observation\\'s values:\",\n",
        "      features_l1_norm[0, 0] + features_l1_norm[0, 1])"
      ],
      "metadata": {
        "colab": {
          "base_uri": "https://localhost:8080/"
        },
        "id": "CP0opocZVG1S",
        "outputId": "2782302d-a4b8-47f4-d63b-2f2fcba49d75"
      },
      "execution_count": null,
      "outputs": [
        {
          "output_type": "stream",
          "name": "stdout",
          "text": [
            "Sum of the first observation's values: 1.0\n"
          ]
        }
      ]
    },
    {
      "cell_type": "markdown",
      "source": [
        "# 4.4 Generating Polynomial and Interaction Features"
      ],
      "metadata": {
        "id": "oh5Ml2_IWhxg"
      }
    },
    {
      "cell_type": "code",
      "source": [
        "# Load libraries\n",
        "import numpy as np\n",
        "from sklearn.preprocessing import PolynomialFeatures\n",
        "# Create feature matrix\n",
        "features = np.array([[2, 3],\n",
        "                     [2, 3],\n",
        "                     [2, 3]])\n",
        "# Create PolynomialFeatures object\n",
        "polynomial_interaction = PolynomialFeatures(degree=2, include_bias=False)\n",
        "# Create polynomial features\n",
        "polynomial_interaction.fit_transform(features)"
      ],
      "metadata": {
        "colab": {
          "base_uri": "https://localhost:8080/"
        },
        "id": "Zqydy7SWV4gY",
        "outputId": "778bc8d5-fce3-462e-f75f-426a19212238"
      },
      "execution_count": null,
      "outputs": [
        {
          "output_type": "execute_result",
          "data": {
            "text/plain": [
              "array([[2., 3., 4., 6., 9.],\n",
              "       [2., 3., 4., 6., 9.],\n",
              "       [2., 3., 4., 6., 9.]])"
            ]
          },
          "metadata": {},
          "execution_count": 14
        }
      ]
    },
    {
      "cell_type": "code",
      "source": [
        "interaction = PolynomialFeatures(degree=2,\n",
        "                                 interaction_only=True, include_bias=False)\n",
        "interaction.fit_transform(features)"
      ],
      "metadata": {
        "colab": {
          "base_uri": "https://localhost:8080/"
        },
        "id": "EI9Q1lOOZDXg",
        "outputId": "eee6bd3e-abdd-42b9-9f0d-7d7409b412bc"
      },
      "execution_count": null,
      "outputs": [
        {
          "output_type": "execute_result",
          "data": {
            "text/plain": [
              "array([[2., 3., 6.],\n",
              "       [2., 3., 6.],\n",
              "       [2., 3., 6.]])"
            ]
          },
          "metadata": {},
          "execution_count": 20
        }
      ]
    },
    {
      "cell_type": "code",
      "source": [
        "interaction = PolynomialFeatures(degree=3, include_bias=False)\n",
        "interaction.fit_transform(features)"
      ],
      "metadata": {
        "colab": {
          "base_uri": "https://localhost:8080/"
        },
        "id": "bu6o_BThXdBU",
        "outputId": "3266516d-22a9-4a08-da6d-e931c9f57407"
      },
      "execution_count": null,
      "outputs": [
        {
          "output_type": "execute_result",
          "data": {
            "text/plain": [
              "array([[ 2.,  3.,  4.,  6.,  9.,  8., 12., 18., 27.],\n",
              "       [ 2.,  3.,  4.,  6.,  9.,  8., 12., 18., 27.],\n",
              "       [ 2.,  3.,  4.,  6.,  9.,  8., 12., 18., 27.]])"
            ]
          },
          "metadata": {},
          "execution_count": 19
        }
      ]
    },
    {
      "cell_type": "code",
      "source": [
        "interaction = PolynomialFeatures(degree=4, include_bias=False)\n",
        "interaction.fit_transform(features)"
      ],
      "metadata": {
        "colab": {
          "base_uri": "https://localhost:8080/"
        },
        "id": "j3BGsiePZWJf",
        "outputId": "59da46a9-a0f4-43f0-f00c-14cc17753309"
      },
      "execution_count": null,
      "outputs": [
        {
          "output_type": "execute_result",
          "data": {
            "text/plain": [
              "array([[ 2.,  3.,  4.,  6.,  9.,  8., 12., 18., 27., 16., 24., 36., 54.,\n",
              "        81.],\n",
              "       [ 2.,  3.,  4.,  6.,  9.,  8., 12., 18., 27., 16., 24., 36., 54.,\n",
              "        81.],\n",
              "       [ 2.,  3.,  4.,  6.,  9.,  8., 12., 18., 27., 16., 24., 36., 54.,\n",
              "        81.]])"
            ]
          },
          "metadata": {},
          "execution_count": 21
        }
      ]
    },
    {
      "cell_type": "markdown",
      "source": [
        "# 4.5 Transforming Features"
      ],
      "metadata": {
        "id": "S3kmPKt1YdSf"
      }
    },
    {
      "cell_type": "code",
      "source": [
        "# Load libraries\n",
        "import numpy as np\n",
        "from sklearn.preprocessing import FunctionTransformer\n",
        "# Create feature matrix\n",
        "features = np.array([[2, 3],\n",
        "                    [2, 3],\n",
        "                    [2, 3]])\n",
        "# Define a simple function\n",
        "def add_ten(x: int) -> int:\n",
        "  return x + 10\n",
        "# Create transformer\n",
        "ten_transformer = FunctionTransformer(add_ten)\n",
        "# Transform feature matrix\n",
        "ten_transformer.transform(features)"
      ],
      "metadata": {
        "colab": {
          "base_uri": "https://localhost:8080/"
        },
        "id": "nikIyw04Yei9",
        "outputId": "7984e9a6-c6fa-447e-d57c-c8bfaea9ac15"
      },
      "execution_count": null,
      "outputs": [
        {
          "output_type": "execute_result",
          "data": {
            "text/plain": [
              "array([[12, 13],\n",
              "       [12, 13],\n",
              "       [12, 13]])"
            ]
          },
          "metadata": {},
          "execution_count": 16
        }
      ]
    },
    {
      "cell_type": "code",
      "source": [
        "ten_transformer.transform(features[:0])"
      ],
      "metadata": {
        "colab": {
          "base_uri": "https://localhost:8080/"
        },
        "id": "K7RhbXOsa1lb",
        "outputId": "63f4979d-3f9e-4340-e92b-cb2143df5b8e"
      },
      "execution_count": null,
      "outputs": [
        {
          "output_type": "execute_result",
          "data": {
            "text/plain": [
              "array([], shape=(0, 2), dtype=int64)"
            ]
          },
          "metadata": {},
          "execution_count": 23
        }
      ]
    },
    {
      "cell_type": "code",
      "source": [
        "# Load library\n",
        "import pandas as pd\n",
        "# Create DataFrame\n",
        "df = pd.DataFrame(features, columns=[\"feature_1\", \"feature_2\"])\n",
        "# Apply function\n",
        "df.apply(add_ten)"
      ],
      "metadata": {
        "colab": {
          "base_uri": "https://localhost:8080/"
        },
        "id": "zrCHWGywZfMB",
        "outputId": "9bf085f8-e455-48db-ea7e-410ba2a37f78"
      },
      "execution_count": null,
      "outputs": [
        {
          "output_type": "execute_result",
          "data": {
            "text/plain": [
              "   feature_1  feature_2\n",
              "0         12         13\n",
              "1         12         13\n",
              "2         12         13"
            ],
            "text/html": [
              "\n",
              "  <div id=\"df-a35ff9c2-daaf-498c-b936-0e0835b99c67\" class=\"colab-df-container\">\n",
              "    <div>\n",
              "<style scoped>\n",
              "    .dataframe tbody tr th:only-of-type {\n",
              "        vertical-align: middle;\n",
              "    }\n",
              "\n",
              "    .dataframe tbody tr th {\n",
              "        vertical-align: top;\n",
              "    }\n",
              "\n",
              "    .dataframe thead th {\n",
              "        text-align: right;\n",
              "    }\n",
              "</style>\n",
              "<table border=\"1\" class=\"dataframe\">\n",
              "  <thead>\n",
              "    <tr style=\"text-align: right;\">\n",
              "      <th></th>\n",
              "      <th>feature_1</th>\n",
              "      <th>feature_2</th>\n",
              "    </tr>\n",
              "  </thead>\n",
              "  <tbody>\n",
              "    <tr>\n",
              "      <th>0</th>\n",
              "      <td>12</td>\n",
              "      <td>13</td>\n",
              "    </tr>\n",
              "    <tr>\n",
              "      <th>1</th>\n",
              "      <td>12</td>\n",
              "      <td>13</td>\n",
              "    </tr>\n",
              "    <tr>\n",
              "      <th>2</th>\n",
              "      <td>12</td>\n",
              "      <td>13</td>\n",
              "    </tr>\n",
              "  </tbody>\n",
              "</table>\n",
              "</div>\n",
              "    <div class=\"colab-df-buttons\">\n",
              "\n",
              "  <div class=\"colab-df-container\">\n",
              "    <button class=\"colab-df-convert\" onclick=\"convertToInteractive('df-a35ff9c2-daaf-498c-b936-0e0835b99c67')\"\n",
              "            title=\"Convert this dataframe to an interactive table.\"\n",
              "            style=\"display:none;\">\n",
              "\n",
              "  <svg xmlns=\"http://www.w3.org/2000/svg\" height=\"24px\" viewBox=\"0 -960 960 960\">\n",
              "    <path d=\"M120-120v-720h720v720H120Zm60-500h600v-160H180v160Zm220 220h160v-160H400v160Zm0 220h160v-160H400v160ZM180-400h160v-160H180v160Zm440 0h160v-160H620v160ZM180-180h160v-160H180v160Zm440 0h160v-160H620v160Z\"/>\n",
              "  </svg>\n",
              "    </button>\n",
              "\n",
              "  <style>\n",
              "    .colab-df-container {\n",
              "      display:flex;\n",
              "      gap: 12px;\n",
              "    }\n",
              "\n",
              "    .colab-df-convert {\n",
              "      background-color: #E8F0FE;\n",
              "      border: none;\n",
              "      border-radius: 50%;\n",
              "      cursor: pointer;\n",
              "      display: none;\n",
              "      fill: #1967D2;\n",
              "      height: 32px;\n",
              "      padding: 0 0 0 0;\n",
              "      width: 32px;\n",
              "    }\n",
              "\n",
              "    .colab-df-convert:hover {\n",
              "      background-color: #E2EBFA;\n",
              "      box-shadow: 0px 1px 2px rgba(60, 64, 67, 0.3), 0px 1px 3px 1px rgba(60, 64, 67, 0.15);\n",
              "      fill: #174EA6;\n",
              "    }\n",
              "\n",
              "    .colab-df-buttons div {\n",
              "      margin-bottom: 4px;\n",
              "    }\n",
              "\n",
              "    [theme=dark] .colab-df-convert {\n",
              "      background-color: #3B4455;\n",
              "      fill: #D2E3FC;\n",
              "    }\n",
              "\n",
              "    [theme=dark] .colab-df-convert:hover {\n",
              "      background-color: #434B5C;\n",
              "      box-shadow: 0px 1px 3px 1px rgba(0, 0, 0, 0.15);\n",
              "      filter: drop-shadow(0px 1px 2px rgba(0, 0, 0, 0.3));\n",
              "      fill: #FFFFFF;\n",
              "    }\n",
              "  </style>\n",
              "\n",
              "    <script>\n",
              "      const buttonEl =\n",
              "        document.querySelector('#df-a35ff9c2-daaf-498c-b936-0e0835b99c67 button.colab-df-convert');\n",
              "      buttonEl.style.display =\n",
              "        google.colab.kernel.accessAllowed ? 'block' : 'none';\n",
              "\n",
              "      async function convertToInteractive(key) {\n",
              "        const element = document.querySelector('#df-a35ff9c2-daaf-498c-b936-0e0835b99c67');\n",
              "        const dataTable =\n",
              "          await google.colab.kernel.invokeFunction('convertToInteractive',\n",
              "                                                    [key], {});\n",
              "        if (!dataTable) return;\n",
              "\n",
              "        const docLinkHtml = 'Like what you see? Visit the ' +\n",
              "          '<a target=\"_blank\" href=https://colab.research.google.com/notebooks/data_table.ipynb>data table notebook</a>'\n",
              "          + ' to learn more about interactive tables.';\n",
              "        element.innerHTML = '';\n",
              "        dataTable['output_type'] = 'display_data';\n",
              "        await google.colab.output.renderOutput(dataTable, element);\n",
              "        const docLink = document.createElement('div');\n",
              "        docLink.innerHTML = docLinkHtml;\n",
              "        element.appendChild(docLink);\n",
              "      }\n",
              "    </script>\n",
              "  </div>\n",
              "\n",
              "\n",
              "<div id=\"df-f8a0d6da-36fd-4486-a6d9-92c1a4f87e64\">\n",
              "  <button class=\"colab-df-quickchart\" onclick=\"quickchart('df-f8a0d6da-36fd-4486-a6d9-92c1a4f87e64')\"\n",
              "            title=\"Suggest charts\"\n",
              "            style=\"display:none;\">\n",
              "\n",
              "<svg xmlns=\"http://www.w3.org/2000/svg\" height=\"24px\"viewBox=\"0 0 24 24\"\n",
              "     width=\"24px\">\n",
              "    <g>\n",
              "        <path d=\"M19 3H5c-1.1 0-2 .9-2 2v14c0 1.1.9 2 2 2h14c1.1 0 2-.9 2-2V5c0-1.1-.9-2-2-2zM9 17H7v-7h2v7zm4 0h-2V7h2v10zm4 0h-2v-4h2v4z\"/>\n",
              "    </g>\n",
              "</svg>\n",
              "  </button>\n",
              "\n",
              "<style>\n",
              "  .colab-df-quickchart {\n",
              "      --bg-color: #E8F0FE;\n",
              "      --fill-color: #1967D2;\n",
              "      --hover-bg-color: #E2EBFA;\n",
              "      --hover-fill-color: #174EA6;\n",
              "      --disabled-fill-color: #AAA;\n",
              "      --disabled-bg-color: #DDD;\n",
              "  }\n",
              "\n",
              "  [theme=dark] .colab-df-quickchart {\n",
              "      --bg-color: #3B4455;\n",
              "      --fill-color: #D2E3FC;\n",
              "      --hover-bg-color: #434B5C;\n",
              "      --hover-fill-color: #FFFFFF;\n",
              "      --disabled-bg-color: #3B4455;\n",
              "      --disabled-fill-color: #666;\n",
              "  }\n",
              "\n",
              "  .colab-df-quickchart {\n",
              "    background-color: var(--bg-color);\n",
              "    border: none;\n",
              "    border-radius: 50%;\n",
              "    cursor: pointer;\n",
              "    display: none;\n",
              "    fill: var(--fill-color);\n",
              "    height: 32px;\n",
              "    padding: 0;\n",
              "    width: 32px;\n",
              "  }\n",
              "\n",
              "  .colab-df-quickchart:hover {\n",
              "    background-color: var(--hover-bg-color);\n",
              "    box-shadow: 0 1px 2px rgba(60, 64, 67, 0.3), 0 1px 3px 1px rgba(60, 64, 67, 0.15);\n",
              "    fill: var(--button-hover-fill-color);\n",
              "  }\n",
              "\n",
              "  .colab-df-quickchart-complete:disabled,\n",
              "  .colab-df-quickchart-complete:disabled:hover {\n",
              "    background-color: var(--disabled-bg-color);\n",
              "    fill: var(--disabled-fill-color);\n",
              "    box-shadow: none;\n",
              "  }\n",
              "\n",
              "  .colab-df-spinner {\n",
              "    border: 2px solid var(--fill-color);\n",
              "    border-color: transparent;\n",
              "    border-bottom-color: var(--fill-color);\n",
              "    animation:\n",
              "      spin 1s steps(1) infinite;\n",
              "  }\n",
              "\n",
              "  @keyframes spin {\n",
              "    0% {\n",
              "      border-color: transparent;\n",
              "      border-bottom-color: var(--fill-color);\n",
              "      border-left-color: var(--fill-color);\n",
              "    }\n",
              "    20% {\n",
              "      border-color: transparent;\n",
              "      border-left-color: var(--fill-color);\n",
              "      border-top-color: var(--fill-color);\n",
              "    }\n",
              "    30% {\n",
              "      border-color: transparent;\n",
              "      border-left-color: var(--fill-color);\n",
              "      border-top-color: var(--fill-color);\n",
              "      border-right-color: var(--fill-color);\n",
              "    }\n",
              "    40% {\n",
              "      border-color: transparent;\n",
              "      border-right-color: var(--fill-color);\n",
              "      border-top-color: var(--fill-color);\n",
              "    }\n",
              "    60% {\n",
              "      border-color: transparent;\n",
              "      border-right-color: var(--fill-color);\n",
              "    }\n",
              "    80% {\n",
              "      border-color: transparent;\n",
              "      border-right-color: var(--fill-color);\n",
              "      border-bottom-color: var(--fill-color);\n",
              "    }\n",
              "    90% {\n",
              "      border-color: transparent;\n",
              "      border-bottom-color: var(--fill-color);\n",
              "    }\n",
              "  }\n",
              "</style>\n",
              "\n",
              "  <script>\n",
              "    async function quickchart(key) {\n",
              "      const quickchartButtonEl =\n",
              "        document.querySelector('#' + key + ' button');\n",
              "      quickchartButtonEl.disabled = true;  // To prevent multiple clicks.\n",
              "      quickchartButtonEl.classList.add('colab-df-spinner');\n",
              "      try {\n",
              "        const charts = await google.colab.kernel.invokeFunction(\n",
              "            'suggestCharts', [key], {});\n",
              "      } catch (error) {\n",
              "        console.error('Error during call to suggestCharts:', error);\n",
              "      }\n",
              "      quickchartButtonEl.classList.remove('colab-df-spinner');\n",
              "      quickchartButtonEl.classList.add('colab-df-quickchart-complete');\n",
              "    }\n",
              "    (() => {\n",
              "      let quickchartButtonEl =\n",
              "        document.querySelector('#df-f8a0d6da-36fd-4486-a6d9-92c1a4f87e64 button');\n",
              "      quickchartButtonEl.style.display =\n",
              "        google.colab.kernel.accessAllowed ? 'block' : 'none';\n",
              "    })();\n",
              "  </script>\n",
              "</div>\n",
              "    </div>\n",
              "  </div>\n"
            ],
            "application/vnd.google.colaboratory.intrinsic+json": {
              "type": "dataframe",
              "summary": "{\n  \"name\": \"df\",\n  \"rows\": 3,\n  \"fields\": [\n    {\n      \"column\": \"feature_1\",\n      \"properties\": {\n        \"dtype\": \"number\",\n        \"std\": 0,\n        \"min\": 12,\n        \"max\": 12,\n        \"num_unique_values\": 1,\n        \"samples\": [\n          12\n        ],\n        \"semantic_type\": \"\",\n        \"description\": \"\"\n      }\n    },\n    {\n      \"column\": \"feature_2\",\n      \"properties\": {\n        \"dtype\": \"number\",\n        \"std\": 0,\n        \"min\": 13,\n        \"max\": 13,\n        \"num_unique_values\": 1,\n        \"samples\": [\n          13\n        ],\n        \"semantic_type\": \"\",\n        \"description\": \"\"\n      }\n    }\n  ]\n}"
            }
          },
          "metadata": {},
          "execution_count": 22
        }
      ]
    },
    {
      "cell_type": "markdown",
      "source": [
        "# 4.6 Detecting Outliers"
      ],
      "metadata": {
        "id": "Ec9Z8x8-aVGL"
      }
    },
    {
      "cell_type": "code",
      "source": [
        "# Load libraries\n",
        "import numpy as np\n",
        "from sklearn.covariance import EllipticEnvelope\n",
        "from sklearn.datasets import make_blobs\n",
        "# Create simulated data\n",
        "features, _ = make_blobs(n_samples = 10,\n",
        "                        n_features = 2,\n",
        "                        centers = 1,\n",
        "                        random_state = 1)\n",
        "# Replace the first observation's values with extreme values\n",
        "features[0,0] = 10000\n",
        "features[0,1] = 10000\n",
        "# Create detector\n",
        "outlier_detector = EllipticEnvelope(contamination=.1)\n",
        "# Fit detector\n",
        "outlier_detector.fit(features)\n",
        "# Predict outliers\n",
        "outlier_detector.predict(features)"
      ],
      "metadata": {
        "colab": {
          "base_uri": "https://localhost:8080/"
        },
        "id": "y2KATHJOaWPo",
        "outputId": "20e9e374-ba5d-41fc-80b3-09f320c0fa52"
      },
      "execution_count": null,
      "outputs": [
        {
          "output_type": "execute_result",
          "data": {
            "text/plain": [
              "array([-1,  1,  1,  1,  1,  1,  1,  1,  1,  1])"
            ]
          },
          "metadata": {},
          "execution_count": 25
        }
      ]
    },
    {
      "cell_type": "code",
      "source": [
        "# Load libraries\n",
        "import numpy as np\n",
        "from sklearn.covariance import EllipticEnvelope\n",
        "from sklearn.datasets import make_blobs\n",
        "# Create simulated data\n",
        "features, _ = make_blobs(n_samples = 10,\n",
        "                        n_features = 2,\n",
        "                        centers = 1,\n",
        "                        random_state = 1)\n",
        "# Replace the first observation's values with extreme values\n",
        "features[0,0] = 10000\n",
        "features[0,1] = 10000\n",
        "# Create detector\n",
        "outlier_detector = EllipticEnvelope(contamination=.2)\n",
        "# Fit detector\n",
        "outlier_detector.fit(features)\n",
        "# Predict outliers\n",
        "outlier_detector.predict(features)"
      ],
      "metadata": {
        "colab": {
          "base_uri": "https://localhost:8080/"
        },
        "id": "K8cd2HxUefvO",
        "outputId": "f5acb437-4f3e-4f77-878c-0156b987f434"
      },
      "execution_count": null,
      "outputs": [
        {
          "output_type": "execute_result",
          "data": {
            "text/plain": [
              "array([-1,  1,  1,  1, -1,  1,  1,  1,  1,  1])"
            ]
          },
          "metadata": {},
          "execution_count": 30
        }
      ]
    },
    {
      "cell_type": "code",
      "source": [
        "# Create one feature\n",
        "feature = features[:,0]\n",
        "# Create a function to return index of outliers\n",
        "def indicies_of_outliers(x: int) -> np.array(int):\n",
        "  q1, q3 = np.percentile(x, [25, 75])\n",
        "  iqr = q3 - q1\n",
        "  lower_bound = q1 - (iqr * 1.5)\n",
        "  upper_bound = q3 + (iqr * 1.5)\n",
        "  return np.where((x > upper_bound) | (x < lower_bound))\n",
        "# Run function\n",
        "indicies_of_outliers(feature)"
      ],
      "metadata": {
        "colab": {
          "base_uri": "https://localhost:8080/"
        },
        "id": "blWw5Fb3bIXN",
        "outputId": "13b5f8c2-1a35-42e9-b57b-e2ea4daa968d"
      },
      "execution_count": 34,
      "outputs": [
        {
          "output_type": "execute_result",
          "data": {
            "text/plain": [
              "(array([0]),)"
            ]
          },
          "metadata": {},
          "execution_count": 34
        }
      ]
    }
  ]
}